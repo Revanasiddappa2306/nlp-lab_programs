{
 "cells": [
  {
   "cell_type": "code",
   "execution_count": 6,
   "id": "327b9c1b",
   "metadata": {},
   "outputs": [
    {
     "name": "stdout",
     "output_type": "stream",
     "text": [
      "Summary:\n",
      "The octopus has translucent skin, allowing it to camouflage effectively in its frigid environment, and it possesses bioluminescent properties, which it uses for communication and hunting in pitch-black depths. This species, tentatively named 'Antarctic Deep-sea Octopus,' is a remarkable find due to its unique adaptation to extreme cold and high-pressure conditions.\n"
     ]
    },
    {
     "name": "stderr",
     "output_type": "stream",
     "text": [
      "[nltk_data] Downloading package wordnet to\n",
      "[nltk_data]     C:\\Users\\LENOVO\\AppData\\Roaming\\nltk_data...\n",
      "[nltk_data]   Package wordnet is already up-to-date!\n",
      "[nltk_data] Downloading package punkt to\n",
      "[nltk_data]     C:\\Users\\LENOVO\\AppData\\Roaming\\nltk_data...\n",
      "[nltk_data]   Package punkt is already up-to-date!\n",
      "[nltk_data] Downloading package stopwords to\n",
      "[nltk_data]     C:\\Users\\LENOVO\\AppData\\Roaming\\nltk_data...\n",
      "[nltk_data]   Package stopwords is already up-to-date!\n"
     ]
    }
   ],
   "source": [
    "import re\n",
    "import nltk\n",
    "import math\n",
    "from nltk.stem import WordNetLemmatizer\n",
    "from nltk.tokenize import sent_tokenize,word_tokenize\n",
    "from nltk.corpus import stopwords\n",
    "\n",
    "nltk.download('wordnet')\n",
    "nltk.download('punkt')\n",
    "nltk.download('stopwords')\n",
    "\n",
    "def tokenize_sentence(text):\n",
    "    return sent_tokenize(text)\n",
    "\n",
    "def tokenize_word(text):\n",
    "    return word_tokenize(text)\n",
    "\n",
    "def lemmatize(word):\n",
    "    lemmatizer=WordNetLemmatizer()\n",
    "    return lemmatizer.lemmatize(word)\n",
    "\n",
    "def is_stop_word(word):\n",
    "    stop_words=set(stopwords.words('english'))\n",
    "    return word.lower() in stop_words\n",
    "\n",
    "def calculate_tf(word,sentence):\n",
    "    words=tokenize_word(sentence)\n",
    "    return words.count(word)/len(words)\n",
    "\n",
    "def calculate_idf(word,sentences):\n",
    "    no=sum(1 for sentence in sentences if word in tokenize_word(sentence))\n",
    "    return math.log(len(sentences)/(no+1))\n",
    "\n",
    "def calculate_tf_idf(sentence,sentences):\n",
    "    words=set(tokenize_word(sentence))\n",
    "    tf_idf_scores=0\n",
    "    for word in words:\n",
    "        tf=calculate_tf(word,sentence)\n",
    "        idf=calculate_idf(word,sentences)\n",
    "        tf_idf_scores+=tf*idf\n",
    "    return tf_idf_scores\n",
    "\n",
    "def find_max_sentence(scores):\n",
    "    max_score=float('-inf')\n",
    "    max_sentence=None\n",
    "    for sentence,score in scores.items():\n",
    "        if(score>max_score):\n",
    "            max_score=score\n",
    "            max_sentence=sentence\n",
    "    return max_sentence\n",
    "\n",
    "def n_largest(scores,n):\n",
    "    sentences=[]\n",
    "    for i in range(n):\n",
    "        max_sentence=find_max_sentence(scores)\n",
    "        sentences.append(max_sentence)\n",
    "        del scores[max_sentence]\n",
    "    return sentences\n",
    "\n",
    "def summarize_text(text,length):\n",
    "    sentences=tokenize_sentence(text)\n",
    "    sentence_scores={sentence:calculate_tf_idf(sentence,sentences) for sentence in sentences}\n",
    "    selected_sentences=n_largest(sentence_scores,length)\n",
    "    summary=' '.join(selected_sentences)\n",
    "    return summary\n",
    "\n",
    "text=\"Scientists have discovered a new species of marine life in the deep ocean off the coast of Antarctica. This species, tentatively named 'Antarctic Deep-sea Octopus,' is a remarkable find due to its unique adaptation to extreme cold and high-pressure conditions. The octopus has translucent skin, allowing it to camouflage effectively in its frigid environment, and it possesses bioluminescent properties, which it uses for communication and hunting in pitch-black depths. Researchers believe that the discovery of this species could shed light on the adaptability of life in some of Earth's most extreme environments.\"\n",
    "\n",
    "summary=summarize_text(text,2)\n",
    "print(\"Summary:\")\n",
    "print(summary)"
   ]
  },
  {
   "cell_type": "code",
   "execution_count": null,
   "id": "6df7020c",
   "metadata": {},
   "outputs": [],
   "source": []
  }
 ],
 "metadata": {
  "kernelspec": {
   "display_name": "Python 3 (ipykernel)",
   "language": "python",
   "name": "python3"
  },
  "language_info": {
   "codemirror_mode": {
    "name": "ipython",
    "version": 3
   },
   "file_extension": ".py",
   "mimetype": "text/x-python",
   "name": "python",
   "nbconvert_exporter": "python",
   "pygments_lexer": "ipython3",
   "version": "3.11.5"
  }
 },
 "nbformat": 4,
 "nbformat_minor": 5
}
