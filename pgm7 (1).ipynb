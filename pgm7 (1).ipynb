{
 "cells": [
  {
   "cell_type": "code",
   "execution_count": 2,
   "id": "7aa8276f",
   "metadata": {},
   "outputs": [
    {
     "name": "stderr",
     "output_type": "stream",
     "text": [
      "[nltk_data] Downloading package punkt to\n",
      "[nltk_data]     C:\\Users\\LENOVO\\AppData\\Roaming\\nltk_data...\n",
      "[nltk_data]   Package punkt is already up-to-date!\n",
      "[nltk_data] Downloading package wordnet to\n",
      "[nltk_data]     C:\\Users\\LENOVO\\AppData\\Roaming\\nltk_data...\n",
      "[nltk_data]   Package wordnet is already up-to-date!\n",
      "[nltk_data] Downloading package stopwords to\n",
      "[nltk_data]     C:\\Users\\LENOVO\\AppData\\Roaming\\nltk_data...\n",
      "[nltk_data]   Package stopwords is already up-to-date!\n"
     ]
    },
    {
     "name": "stdout",
     "output_type": "stream",
     "text": [
      "Top 5 LSA Topics:\n",
      "Topic 1: -0.918*\"best\" + -0.226*\"way\" + -0.174*\"india\" + -0.124*\"s\" + -0.062*\"place\" + -0.059*\"get\" + -0.058*\")\" + -0.054*\"ever\" + -0.043*\"company\" + -0.043*\"good\"\n",
      "Topic 2: 0.801*\"s\" + 0.315*\"get\" + -0.222*\"best\" + 0.166*\"india\" + 0.163*\"people\" + 0.120*\"``\" + 0.094*\"good\" + 0.084*\"one\" + 0.082*\"quora\" + 0.079*\"know\"\n",
      "Topic 3: 0.854*\"get\" + -0.401*\"s\" + 0.125*\"job\" + 0.115*\"good\" + 0.102*\"one\" + 0.092*\"year\" + 0.081*\"rid\" + 0.081*\")\" + 0.064*\"5\" + 0.050*\"girl\"\n",
      "Topic 4: -0.427*\"india\" + 0.420*\"people\" + 0.255*\"quora\" + 0.252*\"way\" + 0.217*\"know\" + 0.205*\")\" + 0.191*\"question\" + -0.189*\"s\" + -0.166*\"get\" + 0.165*\"good\"\n",
      "Topic 5: 0.571*\"india\" + -0.456*\"way\" + 0.301*\"people\" + -0.227*\"good\" + 0.214*\"know\" + -0.204*\"s\" + 0.192*\"quora\" + 0.157*\"question\" + -0.117*\"get\" + 0.110*\"ask\"\n"
     ]
    }
   ],
   "source": [
    "import pandas as pd\n",
    "import matplotlib.pyplot as plt\n",
    "\n",
    "import nltk\n",
    "from nltk.tokenize import word_tokenize\n",
    "from nltk.stem import WordNetLemmatizer\n",
    "from nltk.corpus import stopwords\n",
    "\n",
    "import gensim\n",
    "from gensim.corpora import Dictionary\n",
    "from gensim.models import LsiModel\n",
    "from gensim.matutils import corpus2csc\n",
    "\n",
    "# Load data\n",
    "df = pd.read_csv(\"quora_questions.csv\")\n",
    "data = df.sample(n=1000, axis=0)\n",
    "data = data['Question']\n",
    "\n",
    "# Download necessary NLTK resources\n",
    "nltk.download('punkt')\n",
    "nltk.download('wordnet')\n",
    "nltk.download('stopwords')\n",
    "\n",
    "# Initialize NLTK components\n",
    "lemmatizer = WordNetLemmatizer()\n",
    "stop_words = set(stopwords.words(\"english\"))\n",
    "\n",
    "# Function to preprocess text\n",
    "def preprocess(text):\n",
    "    text = text.lower()\n",
    "    words = word_tokenize(text)\n",
    "    words = [lemmatizer.lemmatize(word) for word in words if word not in stop_words]\n",
    "    import re\n",
    "    special_chars = r'[,.:;?\\(\\'\"\\s]'\n",
    "    words = [re.sub(special_chars, '', word) for word in words]\n",
    "    return words\n",
    "\n",
    "# Apply preprocessing to the dataset\n",
    "data = data.apply(preprocess)\n",
    "\n",
    "# Create a Gensim Dictionary\n",
    "dictionary = Dictionary(data)\n",
    "\n",
    "# Filter out words that appear in fewer than 5 documents or more than 50% of the documents\n",
    "dictionary.filter_extremes(no_below=5, no_above=0.5)\n",
    "\n",
    "# Create bag-of-words representation\n",
    "bow_corpus = [dictionary.doc2bow(text) for text in data]\n",
    "\n",
    "# Train the LSA model\n",
    "num_topics = 5\n",
    "lsamodel = LsiModel(bow_corpus, num_topics=num_topics, id2word=dictionary)\n",
    "\n",
    "# Get the topics\n",
    "topics = lsamodel.show_topics(num_topics=num_topics, num_words=10)\n",
    "\n",
    "# Extract top 5 topics\n",
    "top_topics = []\n",
    "for topic in topics:\n",
    "    top_topics.append(topic[1])\n",
    "\n",
    "# Print top 5 topics\n",
    "print(\"Top 5 LSA Topics:\")\n",
    "for i, topic in enumerate(top_topics, start=1):\n",
    "    print(\"Topic {}: {}\".format(i, topic))\n"
   ]
  },
  {
   "cell_type": "code",
   "execution_count": null,
   "id": "6cfd30ba",
   "metadata": {},
   "outputs": [],
   "source": []
  }
 ],
 "metadata": {
  "kernelspec": {
   "display_name": "Python 3 (ipykernel)",
   "language": "python",
   "name": "python3"
  },
  "language_info": {
   "codemirror_mode": {
    "name": "ipython",
    "version": 3
   },
   "file_extension": ".py",
   "mimetype": "text/x-python",
   "name": "python",
   "nbconvert_exporter": "python",
   "pygments_lexer": "ipython3",
   "version": "3.11.5"
  }
 },
 "nbformat": 4,
 "nbformat_minor": 5
}
